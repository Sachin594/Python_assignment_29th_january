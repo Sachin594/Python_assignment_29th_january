{
 "cells": [
  {
   "cell_type": "code",
   "execution_count": 6,
   "id": "4baa291c-13f4-4689-91b6-0854c0717302",
   "metadata": {},
   "outputs": [],
   "source": [
    "## Question No1 _   Who developed python programming language?\n",
    "\n",
    "\n",
    "## ANSWER - Guido van Rossum developed python programming lnguage"
   ]
  },
  {
   "cell_type": "code",
   "execution_count": 7,
   "id": "dccaf296-3ce2-4d61-a422-d70695272a35",
   "metadata": {},
   "outputs": [],
   "source": [
    "## Question No2 _   Which type of programming does python support?\n",
    "\n",
    "## ANSWER - Python is an interpreted programming language, which supports object-oriented, structured, and functional programming."
   ]
  },
  {
   "cell_type": "code",
   "execution_count": 8,
   "id": "4806d301-c696-4c44-a2de-d95edc2bbbdb",
   "metadata": {},
   "outputs": [],
   "source": [
    "## Question No3 _  Is Python case sensitive when dealing with identifiers?\n",
    "\n",
    "## ANSWER -  Case is always significant while dealing with identifiers in python."
   ]
  },
  {
   "cell_type": "code",
   "execution_count": 10,
   "id": "c8251d91-2d7c-4e98-8882-a5f779039dc9",
   "metadata": {},
   "outputs": [],
   "source": [
    "## Question No4 _ Which of the following is the correct extension of the Python file?\n",
    "\n",
    "## ANSWER - ‘.py’ is the correct extension of the Python file. Python programs can be written in any text editor. To save these programs we need to save in files with file extension ‘.py’."
   ]
  },
  {
   "cell_type": "code",
   "execution_count": 11,
   "id": "001108b6-f485-4223-8114-9bc256605832",
   "metadata": {},
   "outputs": [],
   "source": [
    "## Question No5 _  Is Python code compiled or interpreted?\n",
    "\n",
    "## ANSWER - Many languages have been implemented using both compilers and interpreters, including C, Pascal, and Python."
   ]
  },
  {
   "cell_type": "code",
   "execution_count": 12,
   "id": "9f1231e1-77b5-4380-9238-c04ded589c35",
   "metadata": {},
   "outputs": [],
   "source": [
    "## Question No6 _ Name a few blocks of code used to define in python language?\n",
    "\n",
    "## ANSWER - In Python, to define a block of code we use indentation. Indentation refers to whitespaces at the beginning of the line."
   ]
  },
  {
   "cell_type": "code",
   "execution_count": 14,
   "id": "a61c7269-b0b3-401d-8f9d-12aeca36ee20",
   "metadata": {},
   "outputs": [],
   "source": [
    "## Question No7 _ . State a character used to give single—line commones in pythonP\n",
    "\n",
    "## ANSWER - To write single-line comments in Python use the Hash character (#) at the beginning of the line. It is also called number sign or pound sign. To write multi-line comments, close the text between triple quotes.\n",
    "##          Example: “”” TEXT COMMENT “””\n"
   ]
  },
  {
   "cell_type": "code",
   "execution_count": 24,
   "id": "38d1c52b-c7b9-4f63-906b-2381a67835b2",
   "metadata": {},
   "outputs": [],
   "source": [
    "## Question No8 _ Mention functions which can help us find the version of python that we are currently working on?\n",
    "\n",
    "## ANSWER - The function sys.version can help us to find the version of python that we are currently working on.\n",
    "##          It also contains information on the build number and compiler used. For example, 3.5.2, 2.7.3 etc. this function also returns the current date, time, bits etc along with the version.\n"
   ]
  },
  {
   "cell_type": "code",
   "execution_count": 17,
   "id": "209ed20e-cadc-4b9e-9394-3be17a37dd57",
   "metadata": {},
   "outputs": [],
   "source": [
    "## Question No9 _ Python supports the creation of anonymous functions at runtime, using a construct called\n",
    "\n",
    "## Answer - Python supports the creation of anonymous functions (i.e. functions that are not bound to a name) at runtime, using a construct called lambda. Lambda functions are restricted to a single expression. They can be used wherever normal functions can be used."
   ]
  },
  {
   "cell_type": "code",
   "execution_count": 18,
   "id": "47c94ea4-d5ae-4029-a6ba-bee775f6220a",
   "metadata": {},
   "outputs": [],
   "source": [
    "## Question no10 _ What does pip stand for python?\n",
    "\n",
    "## Answer - pip is a package manager for python. Which is also called Preferred Installer Program."
   ]
  },
  {
   "cell_type": "code",
   "execution_count": 19,
   "id": "6108d717-5b10-4948-a1a6-f0e8e880db32",
   "metadata": {},
   "outputs": [],
   "source": [
    "## Question No11 _ Mention a few built-in functions in python?\n",
    "\n",
    "## Answer - Python abs() , enumerate() , print() are some built in functions of python."
   ]
  },
  {
   "cell_type": "code",
   "execution_count": 25,
   "id": "2e8a861e-c255-4fe8-b137-4a1796514158",
   "metadata": {},
   "outputs": [],
   "source": [
    "## Question No12 _  What is the maximum possible length of an identifier in Python? \n",
    "\n",
    "## Answer -  Identifiers can be of any length.\n"
   ]
  },
  {
   "cell_type": "code",
   "execution_count": 26,
   "id": "96d93fec-e9e8-45d2-b685-002feff22c8a",
   "metadata": {},
   "outputs": [],
   "source": [
    "## Question no13 _ What are the benefits of using Python? \n",
    "\n",
    "## Answer - Presence of third-party modules.\n",
    "##          Extensive support libraries(NumPy for numerical calculations, Pandas for data analytics, etc.)\n",
    "##          Open source and large active community base.\n",
    "##          Versatile, Easy to read, learn and write.\n",
    "##          User-friendly data structures.\n",
    "##          It is a High-level language."
   ]
  },
  {
   "cell_type": "code",
   "execution_count": 27,
   "id": "ec8fda29-97da-4ce6-a5ee-f7b065327ebe",
   "metadata": {},
   "outputs": [],
   "source": [
    "## Question no14 _ How is memory managed in Python? \n",
    "\n",
    "## Answer - Memory management in Python involves a private heap containing all Python objects and data structures. The management of this private heap is ensured internally by the Python memory manager."
   ]
  },
  {
   "cell_type": "code",
   "execution_count": 30,
   "id": "6a60313e-16b2-4c33-a357-ac919d00ab1b",
   "metadata": {},
   "outputs": [],
   "source": [
    "## Question No15 _ How to install Python on Windows and set path variables?\n",
    "\n",
    "## Answer - Step 1: Download Python binaries from python.org\n",
    "\n",
    "##          Step 2: Install the binaries\n",
    "\n",
    "##          Step 3: Add Python to system environment variables\n",
    "\n",
    "##          Step 4: Install pip\n"
   ]
  },
  {
   "cell_type": "code",
   "execution_count": 32,
   "id": "0ac085ca-aa32-48aa-8abd-e790df6382aa",
   "metadata": {},
   "outputs": [],
   "source": [
    "## Quwstion No 16 _ Is indentation required in python? \n",
    "\n",
    "## Answer - Yes . Indententation mandatory and requird in python to define the blocks in python."
   ]
  },
  {
   "cell_type": "code",
   "execution_count": null,
   "id": "518f3876-89cc-4ad8-a950-6761c2576670",
   "metadata": {},
   "outputs": [],
   "source": []
  }
 ],
 "metadata": {
  "kernelspec": {
   "display_name": "Python 3 (ipykernel)",
   "language": "python",
   "name": "python3"
  },
  "language_info": {
   "codemirror_mode": {
    "name": "ipython",
    "version": 3
   },
   "file_extension": ".py",
   "mimetype": "text/x-python",
   "name": "python",
   "nbconvert_exporter": "python",
   "pygments_lexer": "ipython3",
   "version": "3.10.8"
  }
 },
 "nbformat": 4,
 "nbformat_minor": 5
}
